{
 "cells": [
  {
   "cell_type": "code",
   "execution_count": 1,
   "metadata": {},
   "outputs": [],
   "source": []
  },
  {
   "cell_type": "code",
   "execution_count": null,
   "metadata": {},
   "outputs": [],
   "source": []
  },
  {
   "cell_type": "code",
   "execution_count": 9,
   "metadata": {},
   "outputs": [
    {
     "name": "stdout",
     "output_type": "stream",
     "text": [
      "<class 'tweepy.models.Status'>\n",
      "<class 'tweepy.models.Status'>\n",
      "<class 'tweepy.models.Status'>\n",
      "<class 'tweepy.models.Status'>\n",
      "<class 'tweepy.models.Status'>\n"
     ]
    }
   ],
   "source": [
    "from __future__ import absolute_import, print_function\n",
    "from sys import exit\n",
    "from tweepy import OAuthHandler, Stream, StreamListener\n",
    "\n",
    "# Go to http://apps.twitter.com and create an app.\n",
    "# The consumer key and secret will be generated for you after\n",
    "consumer_key=\"\"\n",
    "consumer_secret=\"\"\n",
    "\n",
    "# After the step above, you will be redirected to your app's page.\n",
    "# Create an access token under the the \"Your access token\" section\n",
    "access_token=\"\"\n",
    "access_token_secret=\"\"\n",
    "count = 10\n",
    "counter = 0\n",
    "stream_data = []\n",
    "class StdOutListener(StreamListener):\n",
    "    \"\"\" A listener handles tweets that are received from the stream.\n",
    "    This is a basic listener that just prints received tweets to stdout.\n",
    "    \"\"\"\n",
    "        \n",
    "    def on_status(self, data):\n",
    "        if len(stream_data)>=50:\n",
    "            return False\n",
    "        else:\n",
    "            print(type(data))\n",
    "            stream_data.append([data.user.screen_name,data.lang,data.created_at,data.retweet_count,data.text,data.user.location])         \n",
    "            return True\n",
    "\n",
    "    def on_error(self, status):\n",
    "        print(status)\n",
    "\n",
    "if __name__ == '__main__':\n",
    "    l = StdOutListener()\n",
    "    auth = OAuthHandler(consumer_key, consumer_secret)\n",
    "    auth.set_access_token(access_token, access_token_secret)\n",
    "\n",
    "    stream = Stream(auth, l)\n",
    "    stream.filter(track=['#bigdata'])"
   ]
  },
  {
   "cell_type": "code",
   "execution_count": null,
   "metadata": {},
   "outputs": [],
   "source": [
    "import pandas as pd\n",
    "import tinys3\n",
    "# print(stream_data)\n",
    "df = pd.DataFrame(stream_data,columns=['screen_name','lang','created_at','rt count','text','location'])\n",
    "# display(df)\n",
    "df.to_csv(\"tweet_stream.csv\")\n",
    "\n",
    "S3_ACCESS_KEY = \"\"\n",
    "S3_SECRET_KEY = \"\"\n",
    "bucket_name = \"bdatweetstream\"\n",
    "\n",
    "conn = tinys3.Connection(S3_ACCESS_KEY,S3_SECRET_KEY,tls=True)\n",
    "f = open('tweet_stream.csv','rb')\n",
    "conn.upload('tweet_stream.csv',f,bucket_name)"
   ]
  }
 ],
 "metadata": {
  "kernelspec": {
   "display_name": "Python 3",
   "language": "python",
   "name": "python3"
  },
  "language_info": {
   "codemirror_mode": {
    "name": "ipython",
    "version": 3
   },
   "file_extension": ".py",
   "mimetype": "text/x-python",
   "name": "python",
   "nbconvert_exporter": "python",
   "pygments_lexer": "ipython3",
   "version": "3.7.4"
  }
 },
 "nbformat": 4,
 "nbformat_minor": 2
}
